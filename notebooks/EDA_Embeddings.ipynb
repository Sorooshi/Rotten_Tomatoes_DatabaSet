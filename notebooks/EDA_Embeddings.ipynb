{
 "cells": [
  {
   "cell_type": "code",
   "execution_count": 23,
   "id": "a0d30536",
   "metadata": {},
   "outputs": [],
   "source": [
    "\n",
    "import os\n",
    "import sys\n",
    "import glob\n",
    "import pickle\n",
    "import itertools\n",
    "import numpy as np\n",
    "import pandas as pd\n",
    "import tensorflow as tf\n",
    "import keras_tuner as kt\n",
    "import matplotlib.pyplot as plt\n",
    "\n",
    "\n",
    "sys.path.append(\"../src\")\n",
    "\n",
    "\n",
    "from extract_text_embedding import LstmAe \n",
    "from extract_text_embedding import TuneApplyLstmAe\n",
    "from extract_text_embedding import GetConvertedData\n",
    "\n",
    "\n",
    "\n",
    "\n",
    "\n",
    "tfk = tf.keras\n",
    "tfkl = tf.keras.layers\n",
    "\n"
   ]
  },
  {
   "cell_type": "markdown",
   "id": "3fff120b",
   "metadata": {},
   "source": [
    "# Visualize the results"
   ]
  },
  {
   "cell_type": "code",
   "execution_count": 24,
   "id": "cc6c3f6e",
   "metadata": {},
   "outputs": [],
   "source": [
    "\n",
    "\n",
    "def plot_graphs(train_loss, val_loss, metric, title):\n",
    "    plt.plot(train_loss)\n",
    "    plt.plot(val_loss, '')\n",
    "    plt.xlabel(\"Epochs\")\n",
    "    plt.ylabel(metric)\n",
    "    plt.legend([metric, 'val_'+metric])\n",
    "    plt.title(title)\n",
    "    plt.show()\n",
    "    \n",
    "    "
   ]
  },
  {
   "cell_type": "code",
   "execution_count": 10,
   "id": "b354f308",
   "metadata": {},
   "outputs": [],
   "source": [
    "\n",
    "# with open(\"../LSTM-AE_configs.pickle\", \"rb\") as fp:\n",
    "#     results = pickle.load(fp)\n",
    "\n",
    "# results"
   ]
  },
  {
   "cell_type": "code",
   "execution_count": 25,
   "id": "50e39dc1",
   "metadata": {},
   "outputs": [
    {
     "data": {
      "text/plain": [
       "['../tmp_results/LSTM-AE_large_movies_data(1e-05, 10, 5, 1, 100).pickle',\n",
       " '../tmp_results/LSTM-AE_large_movies_data(1e-05, 10, 50, 1, 100).pickle',\n",
       " '../tmp_results/LSTM-AE_large_movies_data(1e-05, 10, 10, 1, 175).pickle',\n",
       " '../tmp_results/LSTM-AE_large_movies_data(1e-05, 10, 5, 1, 175).pickle',\n",
       " '../tmp_results/LSTM-AE_large_movies_data(1e-05, 10, 5, 2, 10).pickle',\n",
       " '../tmp_results/LSTM-AE_large_movies_data(1e-05, 10, 10, 1, 10).pickle',\n",
       " '../tmp_results/LSTM-AE_large_movies_data(1e-05, 100, 5, 2, 10).pickle',\n",
       " '../tmp_results/LSTM-AE_(1e-05, 100, 50, 1, 100).pickle',\n",
       " '../tmp_results/LSTM-AE_medium_movies_data(1e-05, 10, 10, 2, 10).pickle',\n",
       " '../tmp_results/LSTM-AE_large_movies_data(1e-05, 100, 5, 2, 175).pickle',\n",
       " '../tmp_results/LSTM-AE_large_movies_data(1e-05, 10, 100, 2, 100).pickle',\n",
       " '../tmp_results/LSTM-AE_large_movies_data(1e-05, 10, 10, 2, 175).pickle',\n",
       " '../tmp_results/LSTM-AE_large_movies_data(1e-05, 100, 10, 1, 100).pickle',\n",
       " '../tmp_results/LSTM-AE_large_movies_data(1e-05, 10, 10, 2, 100).pickle',\n",
       " '../tmp_results/LSTM-AE_(1e-05, 100, 10, 2, 175).pickle',\n",
       " '../tmp_results/LSTM-AE_medium_movies_data(1e-05, 10, 10, 1, 100).pickle',\n",
       " '../tmp_results/LSTM-AE_large_movies_data(1e-05, 10, 100, 2, 175).pickle',\n",
       " '../tmp_results/LSTM-AE_medium_movies_data(1e-05, 10, 10, 2, 175).pickle',\n",
       " '../tmp_results/LSTM-AE_large_movies_data(1e-05, 10, 50, 1, 175).pickle',\n",
       " '../tmp_results/LSTM-AE_large_movies_data(1e-05, 100, 50, 1, 175).pickle',\n",
       " '../tmp_results/LSTM-AE_(1e-05, 100, 5, 1, 100).pickle',\n",
       " '../tmp_results/LSTM-AE_large_movies_data(1e-05, 100, 5, 1, 175).pickle',\n",
       " '../tmp_results/LSTM-AE_large_movies_data(1e-05, 100, 5, 1, 100).pickle',\n",
       " '../tmp_results/LSTM-AE_large_movies_data(1e-05, 100, 10, 1, 175).pickle',\n",
       " '../tmp_results/LSTM-AE_(1e-05, 100, 50, 1, 175).pickle',\n",
       " '../tmp_results/LSTM-AE_(1e-05, 100, 10, 2, 10).pickle',\n",
       " '../tmp_results/LSTM-AE_large_movies_data(1e-05, 100, 5, 2, 100).pickle',\n",
       " '../tmp_results/LSTM-AE_(1e-05, 100, 5, 2, 100).pickle',\n",
       " '../tmp_results/LSTM-AE_large_movies_data(1e-05, 100, 10, 2, 10).pickle',\n",
       " '../tmp_results/LSTM-AE_(1e-05, 100, 10, 1, 175).pickle',\n",
       " '../tmp_results/LSTM-AE_large_movies_data(1e-05, 100, 50, 2, 100).pickle',\n",
       " '../tmp_results/LSTM-AE_(1e-05, 100, 5, 2, 175).pickle',\n",
       " '../tmp_results/LSTM-AE_medium_movies_data(1e-05, 10, 10, 1, 10).pickle',\n",
       " '../tmp_results/LSTM-AE_large_movies_data(1e-05, 100, 50, 1, 100).pickle',\n",
       " '../tmp_results/LSTM-AE_(1e-05, 100, 50, 2, 175).pickle',\n",
       " '../tmp_results/LSTM-AE_(1e-05, 100, 10, 1, 100).pickle',\n",
       " '../tmp_results/LSTM-AE_large_movies_data(1e-05, 100, 10, 2, 175).pickle',\n",
       " '../tmp_results/LSTM-AE_large_movies_data(1e-05, 10, 50, 2, 175).pickle',\n",
       " '../tmp_results/LSTM-AE_large_movies_data(1e-05, 10, 50, 2, 100).pickle',\n",
       " '../tmp_results/LSTM-AE_large_movies_data(1e-05, 10, 10, 2, 10).pickle',\n",
       " '../tmp_results/LSTM-AE_large_movies_data(1e-05, 100, 50, 2, 175).pickle',\n",
       " '../tmp_results/LSTM-AE_large_movies_data(1e-05, 10, 100, 1, 175).pickle',\n",
       " '../tmp_results/LSTM-AE_medium_movies_data(1e-05, 10, 10, 2, 100).pickle',\n",
       " '../tmp_results/LSTM-AE_large_movies_data(1e-05, 2000, 5, 1, 100).pickle',\n",
       " '../tmp_results/LSTM-AE_large_movies_data(1e-05, 100, 10, 1, 10).pickle',\n",
       " '../tmp_results/LSTM-AE_large_movies_data(1e-05, 100, 5, 1, 10).pickle',\n",
       " '../tmp_results/LSTM-AE_large_movies_data(1e-05, 10, 5, 1, 10).pickle',\n",
       " '../tmp_results/LSTM-AE_medium_movies_data(1e-05, 10, 10, 1, 175).pickle',\n",
       " '../tmp_results/LSTM-AE_(1e-05, 100, 10, 2, 100).pickle',\n",
       " '../tmp_results/LSTM-AE_large_movies_data(1e-05, 10, 5, 2, 175).pickle',\n",
       " '../tmp_results/LSTM-AE_(1e-05, 100, 10, 1, 10).pickle',\n",
       " '../tmp_results/LSTM-AE_(1e-05, 100, 5, 2, 10).pickle',\n",
       " '../tmp_results/LSTM-AE_large_movies_data(1e-05, 10, 10, 1, 100).pickle',\n",
       " '../tmp_results/LSTM-AE_large_movies_data(1e-05, 2000, 5, 1, 10).pickle',\n",
       " '../tmp_results/LSTM-AE_large_movies_data(1e-05, 10, 5, 2, 100).pickle',\n",
       " '../tmp_results/LSTM-AE_large_movies_data(1e-05, 10, 100, 1, 100).pickle',\n",
       " '../tmp_results/LSTM-AE_(1e-05, 100, 5, 1, 175).pickle',\n",
       " '../tmp_results/LSTM-AE_large_movies_data(1e-05, 100, 10, 2, 100).pickle',\n",
       " '../tmp_results/LSTM-AE_(1e-05, 100, 50, 2, 100).pickle',\n",
       " '../tmp_results/LSTM-AE_(1e-05, 100, 5, 1, 10).pickle']"
      ]
     },
     "execution_count": 25,
     "metadata": {},
     "output_type": "execute_result"
    }
   ],
   "source": [
    "\n",
    "\n",
    "files = glob.glob(\"../tmp_results/*.pickle\")\n",
    "files\n",
    "\n"
   ]
  },
  {
   "cell_type": "code",
   "execution_count": 27,
   "id": "5c42350e",
   "metadata": {
    "scrolled": true
   },
   "outputs": [],
   "source": [
    "\n",
    "for file in files:\n",
    "    with open(file, \"rb\") as fp:\n",
    "        results = pickle.load(fp)\n",
    "        k = list(results.keys())[0]\n",
    "        train_loss = results[k][\"train_loss\"]\n",
    "        val_loss = results[k][\"val_loss\"]\n",
    "        config = file.split(\"LSTM-AE\")[-1] # results[k][\"config\"]\n",
    "        plot_graphs(\n",
    "            train_loss=train_loss,\n",
    "            val_loss=val_loss, \n",
    "            metric=\"MAE\", \n",
    "            title=config\n",
    "        )\n",
    "\n",
    "\n",
    "\n",
    "\n"
   ]
  },
  {
   "cell_type": "code",
   "execution_count": null,
   "id": "66fb26b2",
   "metadata": {},
   "outputs": [],
   "source": []
  },
  {
   "cell_type": "code",
   "execution_count": null,
   "id": "9d48b87a",
   "metadata": {},
   "outputs": [],
   "source": []
  }
 ],
 "metadata": {
  "kernelspec": {
   "display_name": "venv_Jan2022",
   "language": "python",
   "name": "venv_jan2022"
  },
  "language_info": {
   "codemirror_mode": {
    "name": "ipython",
    "version": 3
   },
   "file_extension": ".py",
   "mimetype": "text/x-python",
   "name": "python",
   "nbconvert_exporter": "python",
   "pygments_lexer": "ipython3",
   "version": "3.9.7"
  }
 },
 "nbformat": 4,
 "nbformat_minor": 5
}
